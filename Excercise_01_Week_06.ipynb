{
 "cells": [
  {
   "cell_type": "code",
   "execution_count": 3,
   "id": "9c8800ae-33c8-424f-9a53-70f4f9f44568",
   "metadata": {},
   "outputs": [
    {
     "name": "stdin",
     "output_type": "stream",
     "text": [
      "Tell me your name:  Emmanuel Baah\n",
      "How old are you?  17\n"
     ]
    },
    {
     "name": "stdout",
     "output_type": "stream",
     "text": [
      "{'Name: ': 'Emmanuel Baah', 'Age: ': 17}\n"
     ]
    }
   ],
   "source": [
    "# Ask users for their name and age\n",
    "name_input = input(\"Tell me your name: \")\n",
    "age_input = input(\"How old are you? \")\n",
    "# Converting the age_input to an integer since input takes string\n",
    "age = int (age_input)\n",
    "person = {\"Name: \": name_input,\n",
    "         \"Age: \": age}\n",
    "print(person)"
   ]
  },
  {
   "cell_type": "code",
   "execution_count": null,
   "id": "7a4f1a6a-51a3-4caf-b496-f161f1af287b",
   "metadata": {},
   "outputs": [],
   "source": []
  }
 ],
 "metadata": {
  "kernelspec": {
   "display_name": "Python 3 (ipykernel)",
   "language": "python",
   "name": "python3"
  },
  "language_info": {
   "codemirror_mode": {
    "name": "ipython",
    "version": 3
   },
   "file_extension": ".py",
   "mimetype": "text/x-python",
   "name": "python",
   "nbconvert_exporter": "python",
   "pygments_lexer": "ipython3",
   "version": "3.11.7"
  }
 },
 "nbformat": 4,
 "nbformat_minor": 5
}
