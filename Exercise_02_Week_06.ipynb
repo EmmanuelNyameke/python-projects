{
 "cells": [
  {
   "cell_type": "code",
   "execution_count": 1,
   "id": "6f8faf14-56e1-4ad9-9990-5f47af2daea5",
   "metadata": {},
   "outputs": [
    {
     "ename": "NameError",
     "evalue": "name 'ingredients' is not defined",
     "output_type": "error",
     "traceback": [
      "\u001b[1;31m---------------------------------------------------------------------------\u001b[0m",
      "\u001b[1;31mNameError\u001b[0m                                 Traceback (most recent call last)",
      "Cell \u001b[1;32mIn[1], line 5\u001b[0m\n\u001b[0;32m      1\u001b[0m \u001b[38;5;66;03m# Declaring and intialzing dictionary\u001b[39;00m\n\u001b[0;32m      2\u001b[0m pizza \u001b[38;5;241m=\u001b[39m {\n\u001b[0;32m      3\u001b[0m     \u001b[38;5;124m'\u001b[39m\u001b[38;5;124mingredients: \u001b[39m\u001b[38;5;124m'\u001b[39m: [\u001b[38;5;124m'\u001b[39m\u001b[38;5;124mcheese\u001b[39m\u001b[38;5;124m'\u001b[39m, \u001b[38;5;124m'\u001b[39m\u001b[38;5;124msausage\u001b[39m\u001b[38;5;124m'\u001b[39m, \u001b[38;5;124m'\u001b[39m\u001b[38;5;124mpepper\u001b[39m\u001b[38;5;124m'\u001b[39m]\n\u001b[0;32m      4\u001b[0m }\n\u001b[1;32m----> 5\u001b[0m \u001b[38;5;28;01mfor\u001b[39;00m ingredient \u001b[38;5;129;01min\u001b[39;00m ingredients:\n\u001b[0;32m      6\u001b[0m     \u001b[38;5;28mprint\u001b[39m(ingredient)\n",
      "\u001b[1;31mNameError\u001b[0m: name 'ingredients' is not defined"
     ]
    }
   ],
   "source": [
    "# Declaring and intialzing dictionary\n",
    "pizza = {\n",
    "    'ingredients: ': ['cheese', 'sausage', 'pepper']\n",
    "}\n",
    "for ingredient in ingredients:\n",
    "    print(ingredient)"
   ]
  },
  {
   "cell_type": "code",
   "execution_count": null,
   "id": "257bff7e-4621-43d4-95d5-dd9eeb79ce81",
   "metadata": {},
   "outputs": [],
   "source": []
  }
 ],
 "metadata": {
  "kernelspec": {
   "display_name": "Python 3 (ipykernel)",
   "language": "python",
   "name": "python3"
  },
  "language_info": {
   "codemirror_mode": {
    "name": "ipython",
    "version": 3
   },
   "file_extension": ".py",
   "mimetype": "text/x-python",
   "name": "python",
   "nbconvert_exporter": "python",
   "pygments_lexer": "ipython3",
   "version": "3.11.7"
  }
 },
 "nbformat": 4,
 "nbformat_minor": 5
}
