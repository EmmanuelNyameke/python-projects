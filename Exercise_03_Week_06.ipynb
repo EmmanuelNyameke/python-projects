{
 "cells": [
  {
   "cell_type": "code",
   "execution_count": 4,
   "id": "e4d962db-574c-4edf-872d-0660b0665069",
   "metadata": {},
   "outputs": [
    {
     "name": "stdin",
     "output_type": "stream",
     "text": [
      "What is your name?  Emmanuel Baah\n",
      "Enter your address:  Kasoa\n",
      "Enter your telephone number:  0257894157\n"
     ]
    },
    {
     "name": "stdout",
     "output_type": "stream",
     "text": [
      "{'name: ': 'Emmanuel Baah', 'address: ': 'Kasoa', 'number:': 257894157}\n"
     ]
    }
   ],
   "source": [
    "# Asking for users input\n",
    "name = input(\"What is your name? \")\n",
    "address = input('Enter your address: ')\n",
    "number = input('Enter your telephone number: ')\n",
    "# Converting number variable to an integer\n",
    "number_convert = (int)(number)\n",
    "user = {'name: ': name,\n",
    "        'address: ': address,\n",
    "        'number:': number_convert\n",
    "       }\n",
    "print(user)"
   ]
  },
  {
   "cell_type": "code",
   "execution_count": null,
   "id": "c15a7bd0-9a81-4928-891e-14f0ef491eb4",
   "metadata": {},
   "outputs": [],
   "source": []
  }
 ],
 "metadata": {
  "kernelspec": {
   "display_name": "Python 3 (ipykernel)",
   "language": "python",
   "name": "python3"
  },
  "language_info": {
   "codemirror_mode": {
    "name": "ipython",
    "version": 3
   },
   "file_extension": ".py",
   "mimetype": "text/x-python",
   "name": "python",
   "nbconvert_exporter": "python",
   "pygments_lexer": "ipython3",
   "version": "3.11.7"
  }
 },
 "nbformat": 4,
 "nbformat_minor": 5
}
