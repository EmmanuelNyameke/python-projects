{
 "cells": [
  {
   "cell_type": "markdown",
   "id": "f598565e-6e95-456a-afd3-217039290fe3",
   "metadata": {},
   "source": [
    "# Asking for user input and saving to a file"
   ]
  },
  {
   "cell_type": "code",
   "execution_count": 5,
   "id": "577c7867-79ea-4c8a-916f-748942c3dece",
   "metadata": {},
   "outputs": [
    {
     "name": "stdin",
     "output_type": "stream",
     "text": [
      "What is your favorite number?  5\n"
     ]
    },
    {
     "name": "stdout",
     "output_type": "stream",
     "text": [
      "Your favorite number is 5\n"
     ]
    }
   ],
   "source": [
    "f = open(\"number.txt\", \"w+\")\n",
    "f.write(input('What is your favorite number? '))\n",
    "f.close()\n",
    "f = open(\"number.txt\", \"r\")\n",
    "data = f.read()\n",
    "f.close()\n",
    "print(\"Your favorite number is {}\".format(data))"
   ]
  },
  {
   "cell_type": "code",
   "execution_count": null,
   "id": "94468803-a5cb-426d-93b9-00ba27f6cfcd",
   "metadata": {},
   "outputs": [],
   "source": []
  }
 ],
 "metadata": {
  "kernelspec": {
   "display_name": "Python 3 (ipykernel)",
   "language": "python",
   "name": "python3"
  },
  "language_info": {
   "codemirror_mode": {
    "name": "ipython",
    "version": 3
   },
   "file_extension": ".py",
   "mimetype": "text/x-python",
   "name": "python",
   "nbconvert_exporter": "python",
   "pygments_lexer": "ipython3",
   "version": "3.11.7"
  }
 },
 "nbformat": 4,
 "nbformat_minor": 5
}
