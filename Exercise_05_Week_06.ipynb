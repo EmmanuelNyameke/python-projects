{
 "cells": [
  {
   "cell_type": "markdown",
   "id": "d7110584-7f52-4b90-901a-f75c8aa47808",
   "metadata": {},
   "source": [
    "# Data Dumping"
   ]
  },
  {
   "cell_type": "code",
   "execution_count": 11,
   "id": "0b633d90-3651-4e55-87a9-14365cb7803c",
   "metadata": {},
   "outputs": [
    {
     "name": "stdout",
     "output_type": "stream",
     "text": [
      "['Dave', 'Dennis', 'Peter', 'Jess']\n",
      "['Python', 'C', 'Java', 'Python']\n"
     ]
    }
   ],
   "source": [
    "import csv\n",
    "with open('Engineers.csv', mode='w', newline='') as f:\n",
    "    writer = csv.writer(f)\n",
    "    data = {\n",
    "        'name': ['Dave', 'Dennis', 'Peter', 'Jess'],\n",
    "        'language': ['Python', 'C', 'Java', 'Python']\n",
    "    }\n",
    "    writer.writerow(data['name'])\n",
    "    writer.writerow(data['language'])\n",
    "\n",
    "with open('Engineers.csv', mode='r') as f:\n",
    "    reader = csv.reader(f)\n",
    "    for row in reader:\n",
    "        print(row)"
   ]
  },
  {
   "cell_type": "code",
   "execution_count": null,
   "id": "426d8e48-1bbd-419a-99db-13814c291348",
   "metadata": {},
   "outputs": [],
   "source": []
  }
 ],
 "metadata": {
  "kernelspec": {
   "display_name": "Python 3 (ipykernel)",
   "language": "python",
   "name": "python3"
  },
  "language_info": {
   "codemirror_mode": {
    "name": "ipython",
    "version": 3
   },
   "file_extension": ".py",
   "mimetype": "text/x-python",
   "name": "python",
   "nbconvert_exporter": "python",
   "pygments_lexer": "ipython3",
   "version": "3.11.7"
  }
 },
 "nbformat": 4,
 "nbformat_minor": 5
}
